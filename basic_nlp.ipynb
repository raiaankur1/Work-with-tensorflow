{
  "nbformat": 4,
  "nbformat_minor": 0,
  "metadata": {
    "colab": {
      "name": "Copy of Untitled1.ipynb",
      "provenance": [],
      "collapsed_sections": [],
      "authorship_tag": "ABX9TyPtJ/pwxm5MZVVMFi5kcI0V",
      "include_colab_link": true
    },
    "kernelspec": {
      "name": "python3",
      "display_name": "Python 3"
    },
    "accelerator": "GPU"
  },
  "cells": [
    {
      "cell_type": "markdown",
      "metadata": {
        "id": "view-in-github",
        "colab_type": "text"
      },
      "source": [
        "<a href=\"https://colab.research.google.com/github/raiaankur1/Work-with-tensorflow/blob/master/basic_nlp.ipynb\" target=\"_parent\"><img src=\"https://colab.research.google.com/assets/colab-badge.svg\" alt=\"Open In Colab\"/></a>"
      ]
    },
    {
      "cell_type": "code",
      "metadata": {
        "id": "s2PjCICkVbiv",
        "colab_type": "code",
        "colab": {}
      },
      "source": [
        "import tensorflow as tf\n",
        "import numpy as np\n",
        "from tensorflow import keras\n",
        "from tensorflow.keras.preprocessing.text import Tokenizer"
      ],
      "execution_count": 0,
      "outputs": []
    },
    {
      "cell_type": "code",
      "metadata": {
        "id": "hchJsMaeVtdq",
        "colab_type": "code",
        "colab": {}
      },
      "source": [
        "sentences = [\n",
        "    'I love my dog',\n",
        "    'I love my cat'\n",
        "]\n",
        "sentences2 = ['I love my dog',\n",
        "              'i love my cat',\n",
        "              'you love my dog!']\n",
        "sentences3 = ['i love my dog',\n",
        "              'I love my cat',\n",
        "              'you love my Dog!',\n",
        "              'Do you think my dog is amazing!']"
      ],
      "execution_count": 0,
      "outputs": []
    },
    {
      "cell_type": "code",
      "metadata": {
        "id": "lT1jfWwZWOFl",
        "colab_type": "code",
        "colab": {}
      },
      "source": [
        "tokenizer = Tokenizer(num_words=100)\n",
        "tokenizer.fit_on_texts(sentences3)\n",
        "word_index= tokenizer.word_index\n",
        "print(word_index)\n",
        "\n",
        "sequences = tokenizer.texts_to_sequences(sentences3)\n",
        "print(sequences)"
      ],
      "execution_count": 0,
      "outputs": []
    },
    {
      "cell_type": "code",
      "metadata": {
        "id": "o-ggC3tLW5k0",
        "colab_type": "code",
        "colab": {}
      },
      "source": [
        "test_data = [\n",
        "             ' i really love my dog',\n",
        "             'my dog loves my manatee']\n",
        "test_seq = tokenizer.texts_to_sequences(test_data)\n",
        "print(test_seq)\n"
      ],
      "execution_count": 0,
      "outputs": []
    },
    {
      "cell_type": "code",
      "metadata": {
        "id": "x8gUd3tVbl2W",
        "colab_type": "code",
        "colab": {}
      },
      "source": [
        "sentences3 = ['i love my dog',\n",
        "              'I love my cat',\n",
        "              'you love my Dog!',\n",
        "              'Do you think my dog is amazing!']\n",
        "\n",
        "tokenizer = Tokenizer(num_words = 100,oov_token='<OOV>')\n",
        "tokenizer.fit_on_texts(sentences3)\n",
        "words_index = tokenizer.word_index\n",
        "\n",
        "sequences = tokenizer.texts_to_sequences(sentences3)\n",
        "\n",
        "test_data = [\n",
        "             ' i really love my dog!',\n",
        "             'my dog loves my manatee'\n",
        "]\n",
        "test_seq = tokenizer.texts_to_sequences(test_data)\n",
        "print(test_seq)\n",
        "print(words_index)"
      ],
      "execution_count": 0,
      "outputs": []
    },
    {
      "cell_type": "code",
      "metadata": {
        "id": "4G7qmYXWeXM-",
        "colab_type": "code",
        "colab": {}
      },
      "source": [
        "from tensorflow.keras.preprocessing.sequence import pad_sequences\n",
        "\n",
        "sentences3 = ['i love my dog',\n",
        "              'I love my cat',\n",
        "              'you love my Dog!',\n",
        "              'Do you think my dog is amazing!']\n",
        "\n",
        "tokenizer = Tokenizer(num_words = 100,oov_token='<OOV>')\n",
        "tokenizer.fit_on_texts(sentences3)\n",
        "words_index = tokenizer.word_index\n",
        "\n",
        "sequences = tokenizer.texts_to_sequences(sentences3)\n",
        "padded_seq = pad_sequences(sequences)\n",
        "\n",
        "print(words_index)\n",
        "print(sequences)\n",
        "print(padded_seq)"
      ],
      "execution_count": 0,
      "outputs": []
    },
    {
      "cell_type": "markdown",
      "metadata": {
        "id": "ZBE8t-Xbna2R",
        "colab_type": "text"
      },
      "source": [
        "## Let's get sarcastic"
      ]
    },
    {
      "cell_type": "code",
      "metadata": {
        "id": "RFJHMonLfe3H",
        "colab_type": "code",
        "colab": {}
      },
      "source": [
        "!wget --no-check-certificate \\\n",
        "        https://github.com/raiaankur1/Work-with-tensorflow/blob/master/Sarcasm_Headlines_Dataset.json?raw=true  \\\n",
        "      -O  /tmp/sarcasm.json\n",
        "\n",
        "import json"
      ],
      "execution_count": 0,
      "outputs": []
    },
    {
      "cell_type": "code",
      "metadata": {
        "id": "vzwG3sdtoC8P",
        "colab_type": "code",
        "colab": {}
      },
      "source": [
        "with open(\"/tmp/sarcasm.json\", 'r') as f:\n",
        "  datastore = json.load(f)"
      ],
      "execution_count": 0,
      "outputs": []
    },
    {
      "cell_type": "code",
      "metadata": {
        "id": "gy8wuh1Kor7a",
        "colab_type": "code",
        "colab": {}
      },
      "source": [
        "sentences=[]\n",
        "labels=[]\n",
        "urls=[]\n",
        "\n",
        "for item in datastore:\n",
        "  sentences.append(item['headline'])\n",
        "  labels.append(item['is_sarcastic'])\n",
        "  urls.append(item['article_link'])"
      ],
      "execution_count": 0,
      "outputs": []
    },
    {
      "cell_type": "code",
      "metadata": {
        "id": "_tmf01sjxaje",
        "colab_type": "code",
        "colab": {}
      },
      "source": [
        "from tensorflow.keras.preprocessing.text import Tokenizer\n",
        "from tensorflow.keras.preprocessing.sequence import pad_sequences\n",
        "tokenizer = Tokenizer(oov_token='<OOV>')\n",
        "tokenizer.fit_on_texts(sentences)\n",
        "\n",
        "word_index = tokenizer.word_index\n",
        "print(len(word_index))\n",
        "print(word_index)\n",
        "sequences= tokenizer.texts_to_sequences(sentences)\n",
        "padded = pad_sequences(sequences, padding='post')\n",
        "print(sentences[2])\n",
        "print(padded[2])\n",
        "print(padded.shape)"
      ],
      "execution_count": 0,
      "outputs": []
    },
    {
      "cell_type": "markdown",
      "metadata": {
        "id": "pesL7Q7pCAaQ",
        "colab_type": "text"
      },
      "source": [
        "## IMDB_reviews Dataserts\n",
        "![alt text](https://)"
      ]
    },
    {
      "cell_type": "code",
      "metadata": {
        "id": "x6nfEtOt0sjO",
        "colab_type": "code",
        "outputId": "7d679968-945f-4640-89c0-54f09e27587f",
        "colab": {
          "base_uri": "https://localhost:8080/",
          "height": 34
        }
      },
      "source": [
        "import tensorflow as tf\n",
        "print(tf.__version__)"
      ],
      "execution_count": 0,
      "outputs": [
        {
          "output_type": "stream",
          "text": [
            "2.2.0-rc2\n"
          ],
          "name": "stdout"
        }
      ]
    },
    {
      "cell_type": "code",
      "metadata": {
        "id": "GazvIJ407H7_",
        "colab_type": "code",
        "colab": {}
      },
      "source": [
        "import tensorflow_datasets as tfds\n",
        "imdb, info = tfds.load('imdb_reviews', with_info = True, as_supervised=True)"
      ],
      "execution_count": 0,
      "outputs": []
    },
    {
      "cell_type": "code",
      "metadata": {
        "id": "F9hzcijg71Bf",
        "colab_type": "code",
        "colab": {}
      },
      "source": [
        "import numpy as np\n",
        "train_data, test_data = imdb['train'], imdb['test']"
      ],
      "execution_count": 0,
      "outputs": []
    },
    {
      "cell_type": "code",
      "metadata": {
        "id": "eyPZ7E_e8Xif",
        "colab_type": "code",
        "colab": {}
      },
      "source": [
        "train_sentences=[]\n",
        "train_labels=[]\n",
        "test_sentences=[]\n",
        "test_labels=[]\n",
        "\n",
        "for s,l in train_data:\n",
        "  train_sentences.append(str(s.numpy()))\n",
        "  train_labels.append(l.numpy())\n",
        "for s,l in test_data:\n",
        "  test_sentences.append(str(s.numpy()))\n",
        "  test_labels.append(l.numpy())"
      ],
      "execution_count": 0,
      "outputs": []
    },
    {
      "cell_type": "markdown",
      "metadata": {
        "id": "X_8r3k8O-W7I",
        "colab_type": "text"
      },
      "source": [
        "when training,labels are expected to be numpy arrays\n",
        "the following code serves the same purpose"
      ]
    },
    {
      "cell_type": "code",
      "metadata": {
        "id": "EAn0Zr5k94_G",
        "colab_type": "code",
        "colab": {}
      },
      "source": [
        "train_labels=np.array(train_labels)\n",
        "test_labels=np.array(test_labels)"
      ],
      "execution_count": 0,
      "outputs": []
    },
    {
      "cell_type": "markdown",
      "metadata": {
        "id": "nrQByJc1-9EX",
        "colab_type": "text"
      },
      "source": [
        "storing the hyperparameters into labels for easy editing of their values"
      ]
    },
    {
      "cell_type": "code",
      "metadata": {
        "id": "zYnWzazI-t5p",
        "colab_type": "code",
        "colab": {}
      },
      "source": [
        "vocab_size= 10000\n",
        "oov_tok=\"<OOV>\"\n",
        "\n",
        "max_length=120\n",
        "trunc_type=\"post\"\n",
        "\n",
        "from tensorflow.keras.preprocessing.text import Tokenizer\n",
        "from tensorflow.keras.preprocessing.sequence import pad_sequences\n",
        "\n",
        "tokenizer= Tokenizer(num_words=vocab_size,oov_token=oov_tok)\n",
        "tokenizer.fit_on_texts(train_sentences)\n",
        "word_index=tokenizer.word_index\n",
        "sequences=tokenizer.texts_to_sequences(train_sentences)\n",
        "padded=pad_sequences(sequences,maxlen=max_length,truncating=trunc_type)\n",
        "\n",
        "test_sequences=tokenizer.texts_to_sequences(test_sentences)\n",
        "test_padded=pad_sequences(test_sequences,maxlen=max_length,truncating=trunc_type)\n"
      ],
      "execution_count": 0,
      "outputs": []
    },
    {
      "cell_type": "markdown",
      "metadata": {
        "id": "JqZ5BjhRkXJx",
        "colab_type": "text"
      },
      "source": [
        "now constructing the neural network\n",
        "\n",
        "(also watch the hyperparameter-embedding dimension)"
      ]
    },
    {
      "cell_type": "code",
      "metadata": {
        "id": "kIMJ_lAvBL-V",
        "colab_type": "code",
        "outputId": "33bc44d3-a20c-4709-80e3-c6b1b2183095",
        "colab": {
          "base_uri": "https://localhost:8080/",
          "height": 229
        }
      },
      "source": [
        "embedding_dim=16\n",
        "\n",
        "model= tf.keras.Sequential([\n",
        "      tf.keras.layers.Embedding(vocab_size, embedding_dim, input_length=max_length),\n",
        "      tf.keras.layers.Flatten(),\n",
        "      tf.keras.layers.Dense(6,activation='relu'),\n",
        "      tf.keras.layers.Dense(1,activation='sigmoid')\n",
        "])"
      ],
      "execution_count": 0,
      "outputs": [
        {
          "output_type": "error",
          "ename": "NameError",
          "evalue": "ignored",
          "traceback": [
            "\u001b[0;31m---------------------------------------------------------------------------\u001b[0m",
            "\u001b[0;31mNameError\u001b[0m                                 Traceback (most recent call last)",
            "\u001b[0;32m<ipython-input-12-ad5a483b1d3e>\u001b[0m in \u001b[0;36m<module>\u001b[0;34m()\u001b[0m\n\u001b[1;32m      2\u001b[0m \u001b[0;34m\u001b[0m\u001b[0m\n\u001b[1;32m      3\u001b[0m model= tf.keras.Sequential([\n\u001b[0;32m----> 4\u001b[0;31m       \u001b[0mtf\u001b[0m\u001b[0;34m.\u001b[0m\u001b[0mkeras\u001b[0m\u001b[0;34m.\u001b[0m\u001b[0mlayers\u001b[0m\u001b[0;34m.\u001b[0m\u001b[0mEmbedding\u001b[0m\u001b[0;34m(\u001b[0m\u001b[0mvocab_size\u001b[0m\u001b[0;34m,\u001b[0m \u001b[0membedding_dim\u001b[0m\u001b[0;34m,\u001b[0m \u001b[0minput_length\u001b[0m\u001b[0;34m=\u001b[0m\u001b[0mmax_length\u001b[0m\u001b[0;34m)\u001b[0m\u001b[0;34m,\u001b[0m\u001b[0;34m\u001b[0m\u001b[0;34m\u001b[0m\u001b[0m\n\u001b[0m\u001b[1;32m      5\u001b[0m       \u001b[0mtf\u001b[0m\u001b[0;34m.\u001b[0m\u001b[0mkeras\u001b[0m\u001b[0;34m.\u001b[0m\u001b[0mlayers\u001b[0m\u001b[0;34m.\u001b[0m\u001b[0mFlatten\u001b[0m\u001b[0;34m(\u001b[0m\u001b[0;34m)\u001b[0m\u001b[0;34m,\u001b[0m\u001b[0;34m\u001b[0m\u001b[0;34m\u001b[0m\u001b[0m\n\u001b[1;32m      6\u001b[0m       \u001b[0mtf\u001b[0m\u001b[0;34m.\u001b[0m\u001b[0mkeras\u001b[0m\u001b[0;34m.\u001b[0m\u001b[0mlayers\u001b[0m\u001b[0;34m.\u001b[0m\u001b[0mDense\u001b[0m\u001b[0;34m(\u001b[0m\u001b[0;36m6\u001b[0m\u001b[0;34m,\u001b[0m\u001b[0mactivation\u001b[0m\u001b[0;34m=\u001b[0m\u001b[0;34m'relu'\u001b[0m\u001b[0;34m)\u001b[0m\u001b[0;34m,\u001b[0m\u001b[0;34m\u001b[0m\u001b[0;34m\u001b[0m\u001b[0m\n",
            "\u001b[0;31mNameError\u001b[0m: name 'vocab_size' is not defined"
          ]
        }
      ]
    },
    {
      "cell_type": "code",
      "metadata": {
        "id": "c2ZG1g9ImLwq",
        "colab_type": "code",
        "colab": {}
      },
      "source": [
        "model2= tf.keras.Sequential([\n",
        "        tf.keras.layers.Embedding(vocab_size, embedding_dim, input_length=max_length),\n",
        "        tf.keras.layers.GlobalAveragePooling1D(),\n",
        "        tf.keras.layers.Dense(6,activation='relu'),\n",
        "        tf.keras.layers.Dense(1,activation='sigmoid')\n",
        "])"
      ],
      "execution_count": 0,
      "outputs": []
    },
    {
      "cell_type": "code",
      "metadata": {
        "id": "r5b58MvTnwMd",
        "colab_type": "code",
        "colab": {}
      },
      "source": [
        "model2.compile(optimizer='adam', loss='binary_crossentropy', metrics=['accuracy'])\n",
        "model2.fit(padded, train_labels, epochs=10, validation_data=(test_padded, test_labels))"
      ],
      "execution_count": 0,
      "outputs": []
    },
    {
      "cell_type": "code",
      "metadata": {
        "id": "XrnPR8LsuVvK",
        "colab_type": "code",
        "colab": {}
      },
      "source": [
        "model.summary()"
      ],
      "execution_count": 0,
      "outputs": []
    },
    {
      "cell_type": "code",
      "metadata": {
        "id": "yWllZEFgomyF",
        "colab_type": "code",
        "colab": {}
      },
      "source": [
        "model.compile(optimizer='adam',loss='binary_crossentropy',metrics=['accuracy'])\n",
        "model.fit(padded, train_labels, epochs=10, validation_data=(test_padded,test_labels))"
      ],
      "execution_count": 0,
      "outputs": []
    },
    {
      "cell_type": "code",
      "metadata": {
        "id": "O9CT0-mkrQcQ",
        "colab_type": "code",
        "colab": {}
      },
      "source": [
        "reverse_word_index = dict([(value, key) for (key, value) in word_index.items()])\n",
        "\n",
        "def decode_review(text):\n",
        "    return ' '.join([reverse_word_index.get(i, '?') for i in text])\n",
        "\n",
        "print(decode_review(padded[3]))\n",
        "print(train_sentences[3])"
      ],
      "execution_count": 0,
      "outputs": []
    },
    {
      "cell_type": "code",
      "metadata": {
        "id": "r9Ipuza7vJSL",
        "colab_type": "code",
        "colab": {}
      },
      "source": [
        "reverse_word_index= dict([(value,key) for (key,value) in word_index.items()])\n",
        "\n",
        "def decode_review(text):\n",
        "  return ' '.join([reverse_word_index.get(i,'?') for i in text])"
      ],
      "execution_count": 0,
      "outputs": []
    },
    {
      "cell_type": "code",
      "metadata": {
        "id": "8JribMHWvpOo",
        "colab_type": "code",
        "colab": {}
      },
      "source": [
        "print(decode_review(padded[1]))\n",
        "print(train_sentences[1])"
      ],
      "execution_count": 0,
      "outputs": []
    },
    {
      "cell_type": "code",
      "metadata": {
        "id": "mR-HAtGfv2-j",
        "colab_type": "code",
        "outputId": "b82638b7-b904-4ac3-eb59-cc096d6f2d53",
        "colab": {
          "base_uri": "https://localhost:8080/",
          "height": 34
        }
      },
      "source": [
        "embed=model2.layers[0]\n",
        "weights= embed.get_weights()[0]\n",
        "print(weights.shape)"
      ],
      "execution_count": 0,
      "outputs": [
        {
          "output_type": "stream",
          "text": [
            "(10000, 16)\n"
          ],
          "name": "stdout"
        }
      ]
    },
    {
      "cell_type": "code",
      "metadata": {
        "id": "QNTzOvre3d65",
        "colab_type": "code",
        "colab": {}
      },
      "source": [
        "import io\n",
        "out_v= io.open('vecs.tesv', 'w',encoding='utf-8')\n",
        "out_m= io.open('meta.tsv', 'w',encoding='utf-8')\n",
        "\n",
        "for word_num in range(1,vocab_size):\n",
        "  word= reverse_word_index[word_num]\n",
        "  embeddings=weights[word_num]\n",
        "  out_m.write(word +'\\n')\n",
        "  out_v.write('\\t'.join([str(x) for x in embeddings]) + '\\n')\n",
        "out_v.close()\n",
        "out_m.close()"
      ],
      "execution_count": 0,
      "outputs": []
    },
    {
      "cell_type": "code",
      "metadata": {
        "id": "q-xO988s_rz6",
        "colab_type": "code",
        "colab": {}
      },
      "source": [
        ""
      ],
      "execution_count": 0,
      "outputs": []
    },
    {
      "cell_type": "markdown",
      "metadata": {
        "id": "8bSae00VElKZ",
        "colab_type": "text"
      },
      "source": [
        "## getting back to sarcasm dataset"
      ]
    },
    {
      "cell_type": "code",
      "metadata": {
        "id": "o3aUcomCEqLc",
        "colab_type": "code",
        "colab": {}
      },
      "source": [
        "import json\n",
        "\n",
        "!wget --no-check-certificate \\\n",
        "        https://github.com/raiaankur1/Work-with-tensorflow/blob/master/Sarcasm_Headlines_Dataset.json?raw=true  \\\n",
        "      -O  /tmp/sarcasm.json\n",
        "with open('/tmp/sarcasm.json', 'r') as f:\n",
        "  data=json.load(f)"
      ],
      "execution_count": 0,
      "outputs": []
    },
    {
      "cell_type": "code",
      "metadata": {
        "id": "ev94ihDmF4bn",
        "colab_type": "code",
        "colab": {}
      },
      "source": [
        "sentences=[]\n",
        "labels=[]\n",
        "for item in data:\n",
        "  sentences.append(item['headline'])\n",
        "  labels.append(item['is_sarcastic'])"
      ],
      "execution_count": 0,
      "outputs": []
    },
    {
      "cell_type": "code",
      "metadata": {
        "id": "S_yN_Kr-GUF2",
        "colab_type": "code",
        "colab": {}
      },
      "source": [
        "num_words=10000\n",
        "oov_tok='<OOV>'\n",
        "embedding_dim=32\n",
        "max_len=32\n",
        "training_size=20000"
      ],
      "execution_count": 0,
      "outputs": []
    },
    {
      "cell_type": "code",
      "metadata": {
        "id": "bX_Zyv0baEah",
        "colab_type": "code",
        "colab": {}
      },
      "source": [
        "train_sentences=sentences[:training_size]\n",
        "test_sentences=sentences[training_size:]\n",
        "train_labels=labels[:training_size]\n",
        "test_labels=labels[training_size:]\n",
        "\n",
        "train_labels=np.array(train_labels)\n",
        "test_labels=np.array(test_labels)"
      ],
      "execution_count": 0,
      "outputs": []
    },
    {
      "cell_type": "code",
      "metadata": {
        "id": "NfajbgNEJlQ8",
        "colab_type": "code",
        "colab": {}
      },
      "source": [
        "from tensorflow.keras.preprocessing.text import Tokenizer\n",
        "from tensorflow.keras.preprocessing.sequence import pad_sequences\n",
        "tokenizer = Tokenizer(num_words,oov_token=oov_tok)\n",
        "tokenizer.fit_on_texts(train_sentences)\n",
        "word_index = tokenizer.word_index\n",
        "train_sequences= tokenizer.texts_to_sequences(train_sentences)\n",
        "test_sequences= tokenizer.texts_to_sequences(test_sentences)\n",
        "padded = pad_sequences(train_sequences, padding='post', maxlen=max_len, truncating= 'post')\n",
        "test_padded = pad_sequences(test_sequences, padding='post',maxlen=max_len, truncating= 'post')"
      ],
      "execution_count": 0,
      "outputs": []
    },
    {
      "cell_type": "code",
      "metadata": {
        "id": "h8mlycujqLpS",
        "colab_type": "code",
        "colab": {}
      },
      "source": [
        "sarcasmodel= tf.keras.Sequential([\n",
        "            tf.keras.layers.Embedding(num_words, embedding_dim, input_length= max_len),\n",
        "            tf.keras.layers.GlobalAveragePooling1D(),\n",
        "            tf.keras.layers.Dense(24, activation='relu'),\n",
        "            tf.keras.layers.Dense(1, activation= 'sigmoid')\n",
        "])\n",
        "\n",
        "sarcasmodel.compile(optimizer='adam', loss='binary_crossentropy',metrics=['accuracy'])"
      ],
      "execution_count": 0,
      "outputs": []
    },
    {
      "cell_type": "code",
      "metadata": {
        "id": "IhB4MaJlrkny",
        "colab_type": "code",
        "outputId": "40e4cbd3-1a1d-44db-87eb-d235ae79c336",
        "colab": {
          "base_uri": "https://localhost:8080/",
          "height": 286
        }
      },
      "source": [
        "sarcasmodel.summary()"
      ],
      "execution_count": 0,
      "outputs": [
        {
          "output_type": "stream",
          "text": [
            "Model: \"sequential\"\n",
            "_________________________________________________________________\n",
            "Layer (type)                 Output Shape              Param #   \n",
            "=================================================================\n",
            "embedding (Embedding)        (None, 32, 32)            320000    \n",
            "_________________________________________________________________\n",
            "global_average_pooling1d (Gl (None, 32)                0         \n",
            "_________________________________________________________________\n",
            "dense (Dense)                (None, 24)                792       \n",
            "_________________________________________________________________\n",
            "dense_1 (Dense)              (None, 1)                 25        \n",
            "=================================================================\n",
            "Total params: 320,817\n",
            "Trainable params: 320,817\n",
            "Non-trainable params: 0\n",
            "_________________________________________________________________\n"
          ],
          "name": "stdout"
        }
      ]
    },
    {
      "cell_type": "code",
      "metadata": {
        "id": "XtPyKeHor8ne",
        "colab_type": "code",
        "colab": {}
      },
      "source": [
        "history = sarcasmodel.fit(padded, train_labels, epochs=30, validation_data=(test_padded, test_labels), verbose=2)"
      ],
      "execution_count": 0,
      "outputs": []
    },
    {
      "cell_type": "code",
      "metadata": {
        "id": "lOCQCICSsekp",
        "colab_type": "code",
        "colab": {}
      },
      "source": [
        "import matplotlib.pyplot as plt\n",
        "\n",
        "def plot_graphs(history,string):\n",
        "  plt.plot(history.history[string])\n",
        "  plt.plot(history.history['val_'+string])\n",
        "  plt.xlabel(\"Epochs\")\n",
        "  plt.ylabel(string)\n",
        "  plt.legend([string, 'val_'+string])\n",
        "  plt.show()"
      ],
      "execution_count": 0,
      "outputs": []
    },
    {
      "cell_type": "code",
      "metadata": {
        "id": "hg-bFv-p7UTf",
        "colab_type": "code",
        "outputId": "ea53249f-19e9-49f8-959f-b11a7e4df323",
        "colab": {
          "base_uri": "https://localhost:8080/",
          "height": 541
        }
      },
      "source": [
        "plot_graphs(history, 'accuracy')\n",
        "plot_graphs(history, 'loss')"
      ],
      "execution_count": 0,
      "outputs": [
        {
          "output_type": "display_data",
          "data": {
            "image/png": "[encoded data removed]",
            "text/plain": [
              "<Figure size 432x288 with 1 Axes>"
            ]
          },
          "metadata": {
            "tags": [],
            "needs_background": "light"
          }
        },
        {
          "output_type": "display_data",
          "data": {
            "image/png": "[encoded data removed]",
            "text/plain": [
              "<Figure size 432x288 with 1 Axes>"
            ]
          },
          "metadata": {
            "tags": [],
            "needs_background": "light"
          }
        }
      ]
    },
    {
      "cell_type": "code",
      "metadata": {
        "id": "Qia7q0RA7kL-",
        "colab_type": "code",
        "colab": {}
      },
      "source": [
        ""
      ],
      "execution_count": 0,
      "outputs": []
    },
    {
      "cell_type": "markdown",
      "metadata": {
        "id": "2Cd5ngrHYwFo",
        "colab_type": "text"
      },
      "source": [
        "## working of **IMDB_revies/subwords8k**"
      ]
    },
    {
      "cell_type": "code",
      "metadata": {
        "id": "BAwJlWUfY6Rk",
        "colab_type": "code",
        "colab": {}
      },
      "source": [
        "import tensorflow_datasets as tfds\n",
        "imdb, info=tfds.load(\"imdb_reviews/subwords8k\",with_info=True, as_supervised=True)"
      ],
      "execution_count": 0,
      "outputs": []
    },
    {
      "cell_type": "code",
      "metadata": {
        "id": "XQ7xpg5sY_aU",
        "colab_type": "code",
        "colab": {}
      },
      "source": [
        "train_data,test_data= imdb['train'],imdb['test']\n",
        "train_data=train_data.padded_batch(120)\n",
        "test_data=test_data.padded_batch(120)"
      ],
      "execution_count": 0,
      "outputs": []
    },
    {
      "cell_type": "code",
      "metadata": {
        "id": "ZW7eFvLz-B-l",
        "colab_type": "code",
        "colab": {}
      },
      "source": [
        "train_sentences=[]\n",
        "test_sentences=[]\n",
        "train_labels=[]\n",
        "test_labels=[]\n",
        "for s,l in train_data:\n",
        "  train_sentences.append(str(s.numpy()))\n",
        "  train_labels.append(l.numpy())\n",
        "for s,l in test_data:\n",
        "  test_sentences.append(str(s.numpy()))\n",
        "  test_labels.append(l.numpy())"
      ],
      "execution_count": 0,
      "outputs": []
    },
    {
      "cell_type": "code",
      "metadata": {
        "id": "55x-ZvkvIaFz",
        "colab_type": "code",
        "colab": {}
      },
      "source": [
        "train_labels=np.array(train_labels)\n",
        "test_labels=np.array(test_labels)"
      ],
      "execution_count": 0,
      "outputs": []
    },
    {
      "cell_type": "code",
      "metadata": {
        "id": "u0VuyIJyKB5B",
        "colab_type": "code",
        "colab": {}
      },
      "source": [
        "max_length=120"
      ],
      "execution_count": 0,
      "outputs": []
    },
    {
      "cell_type": "code",
      "metadata": {
        "id": "s_h0cACJZ0SX",
        "colab_type": "code",
        "colab": {}
      },
      "source": [
        "tokenizer=info.features['text'].encoder\n",
        "\n",
        "import tensorflow as tf\n"
      ],
      "execution_count": 0,
      "outputs": []
    },
    {
      "cell_type": "code",
      "metadata": {
        "id": "Gqi6SEnAdOAC",
        "colab_type": "code",
        "colab": {}
      },
      "source": [
        "embedding_dim = 64\n",
        "subwords_model = tf.keras.Sequential([\n",
        "                  tf.keras.layers.Embedding(tokenizer.vocab_size, embedding_dim),\n",
        "                  tf.keras.layers.GlobalAveragePooling1D(),\n",
        "                  tf.keras.layers.Dense(6, activation='relu'),\n",
        "                  tf.keras.layers.Dense(1, activation='sigmoid')\n",
        "])"
      ],
      "execution_count": 0,
      "outputs": []
    },
    {
      "cell_type": "code",
      "metadata": {
        "id": "sk6nT9ewehMu",
        "colab_type": "code",
        "outputId": "78c17ddb-45f3-4b2e-93bc-9e1eb07f1406",
        "colab": {
          "base_uri": "https://localhost:8080/",
          "height": 353
        }
      },
      "source": [
        "subwords_model.compile(optimizer='adam',loss='binary_crossentropy',metrics=['acc'])\n",
        "history=subwords_model.fit(train_data,epochs=10,validation_data=test_data)"
      ],
      "execution_count": 0,
      "outputs": [
        {
          "output_type": "stream",
          "text": [
            "Epoch 1/10\n",
            "209/209 [==============================] - 14s 65ms/step - loss: 0.1701 - acc: 0.9399 - val_loss: 0.3150 - val_acc: 0.8813\n",
            "Epoch 2/10\n",
            "209/209 [==============================] - 13s 64ms/step - loss: 0.1633 - acc: 0.9423 - val_loss: 0.3193 - val_acc: 0.8807\n",
            "Epoch 3/10\n",
            "209/209 [==============================] - 13s 64ms/step - loss: 0.1569 - acc: 0.9447 - val_loss: 0.3241 - val_acc: 0.8797\n",
            "Epoch 4/10\n",
            "209/209 [==============================] - 14s 65ms/step - loss: 0.1510 - acc: 0.9473 - val_loss: 0.3294 - val_acc: 0.8788\n",
            "Epoch 5/10\n",
            "209/209 [==============================] - 14s 65ms/step - loss: 0.1454 - acc: 0.9499 - val_loss: 0.3351 - val_acc: 0.8779\n",
            "Epoch 6/10\n",
            "209/209 [==============================] - 13s 64ms/step - loss: 0.1402 - acc: 0.9522 - val_loss: 0.3413 - val_acc: 0.8768\n",
            "Epoch 7/10\n",
            "209/209 [==============================] - 14s 65ms/step - loss: 0.1353 - acc: 0.9539 - val_loss: 0.3478 - val_acc: 0.8760\n",
            "Epoch 8/10\n",
            "209/209 [==============================] - 14s 65ms/step - loss: 0.1307 - acc: 0.9555 - val_loss: 0.3547 - val_acc: 0.8749\n",
            "Epoch 9/10\n",
            "209/209 [==============================] - 13s 64ms/step - loss: 0.1264 - acc: 0.9574 - val_loss: 0.3618 - val_acc: 0.8735\n",
            "Epoch 10/10\n",
            "209/209 [==============================] - 13s 64ms/step - loss: 0.1222 - acc: 0.9592 - val_loss: 0.3693 - val_acc: 0.8725\n"
          ],
          "name": "stdout"
        }
      ]
    },
    {
      "cell_type": "code",
      "metadata": {
        "id": "016op9b7g4do",
        "colab_type": "code",
        "colab": {}
      },
      "source": [
        "import matplotlib.pyplot as plt\n",
        "def plot_graphs(history, string):\n",
        "  plt.plot(history.history[string])\n",
        "  plt.plot(history.history[\"val_\"+string])\n",
        "  plt.xlabel(\"Epochs\")\n",
        "  plt.ylabel(string)\n",
        "  plt.legend([string,\"val_\"+string])\n",
        "  plt.show()"
      ],
      "execution_count": 0,
      "outputs": []
    },
    {
      "cell_type": "code",
      "metadata": {
        "id": "nA534fMaQSYn",
        "colab_type": "code",
        "outputId": "907298ff-ff0a-4f79-b224-35f2ab905bec",
        "colab": {
          "base_uri": "https://localhost:8080/",
          "height": 541
        }
      },
      "source": [
        "plot_graphs(history,\"acc\")\n",
        "plot_graphs(history,\"loss\")"
      ],
      "execution_count": 0,
      "outputs": [
        {
          "output_type": "display_data",
          "data": {
            "image/png": "[encoded data removed]",
            "text/plain": [
              "<Figure size 432x288 with 1 Axes>"
            ]
          },
          "metadata": {
            "tags": [],
            "needs_background": "light"
          }
        },
        {
          "output_type": "display_data",
          "data": {
            "image/png": "[encoded data removed]",
            "text/plain": [
              "<Figure size 432x288 with 1 Axes>"
            ]
          },
          "metadata": {
            "tags": [],
            "needs_background": "light"
          }
        }
      ]
    },
    {
      "cell_type": "code",
      "metadata": {
        "id": "-P7Ywu8tQgAy",
        "colab_type": "code",
        "colab": {}
      },
      "source": [
        ""
      ],
      "execution_count": 0,
      "outputs": []
    }
  ]
}